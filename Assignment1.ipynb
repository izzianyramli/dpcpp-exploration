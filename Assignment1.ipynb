{
 "cells": [
  {
   "cell_type": "markdown",
   "metadata": {},
   "source": [
    "# Assignment 1"
   ]
  },
  {
   "cell_type": "markdown",
   "metadata": {},
   "source": [
    "### KNN algorithm"
   ]
  },
  {
   "cell_type": "markdown",
   "metadata": {},
   "source": [
    "Reference: https://towardsdatascience.com/machine-learning-basics-with-the-k-nearest-neighbors-algorithm-6a6e71d01761"
   ]
  },
  {
   "cell_type": "code",
   "execution_count": null,
   "metadata": {},
   "outputs": [],
   "source": [
    "%%writefile source/knn_from_scratch.py\n",
    "\n",
    "from collections import Counter\n",
    "import math\n",
    "\n",
    "def knn(data, query, k, distance_fn, choice_fn):\n",
    "    neighbor_distances_and_indices = []\n",
    "    \n",
    "    for index, example in enumerate(data):\n",
    "        # print(\"index: {}, example: {}\".format(index, example))\n",
    "        distance = distance_fn(example[:-1], query)\n",
    "        \n",
    "        neighbor_distances_and_indices.append((distance, index))\n",
    "    \n",
    "    print(\"neighbor_distances_and_indices: \", neighbor_distances_and_indices)\n",
    "    \n",
    "    sorted_neighbor_distances_and_indices = sorted(neighbor_distances_and_indices)\n",
    "    print(\"sorted_neighbor_distances_and_indices: \", sorted_neighbor_distances_and_indices)\n",
    "    \n",
    "    k_nearest_distances_and_indices = sorted_neighbor_distances_and_indices[:k]\n",
    "    \n",
    "    k_nearest_labels = [data[i][-1] for distance, i in k_nearest_distances_and_indices]\n",
    "    \n",
    "    print(\"mean/mode k_nearest_labels: \", choice_fn(k_nearest_labels))\n",
    "    print(\"k_nearest_labels: \", k_nearest_labels)\n",
    "    \n",
    "    return k_nearest_distances_and_indices, choice_fn(k_nearest_labels)\n",
    "\n",
    "def mean(labels):\n",
    "    return sum(labels) / len(labels)\n",
    "\n",
    "def mode(labels):\n",
    "    return Counter(labels).most_common(1)[0][0]\n",
    "\n",
    "def euclidean_distance(point1, point2):\n",
    "    sum_squared_distance = 0\n",
    "    for i in range(len(point1)):\n",
    "        sum_squared_distance += math.pow(point1[i] - point2[i], 2)\n",
    "    return math.sqrt(sum_squared_distance)\n",
    "\n",
    "def main():\n",
    "    reg_data = [\n",
    "        [65.75, 112.99],\n",
    "        [71.52, 136.49],\n",
    "        [69.40, 153.03],\n",
    "        [68.22, 142.34],\n",
    "        [67.79, 144.30],\n",
    "        [68.70, 123.30],\n",
    "        [69.80, 141.49],\n",
    "        [70.01, 136.46],\n",
    "        [67.90, 112.37],\n",
    "        [66.49, 127.45],\n",
    "    ]\n",
    "    \n",
    "    reg_query = [60]\n",
    "    reg_k_nearest_neighbors, reg_prediction = knn(reg_data, reg_query, k=5, distance_fn=euclidean_distance, choice_fn=mean)\n",
    "    print(\"Regression prediction: \", reg_k_nearest_neighbors)\n",
    "    \n",
    "    clf_data = [\n",
    "        [22, 1],\n",
    "        [23, 1],\n",
    "        [21, 1],\n",
    "        [18, 1],\n",
    "        [19, 1],\n",
    "        [25, 0],\n",
    "        [27, 0],\n",
    "        [29, 0],\n",
    "        [31, 0],\n",
    "        [45, 0],\n",
    "    ]\n",
    "    \n",
    "    clf_query = [33]\n",
    "    clf_k_nearest_neighbors, clf_prediction = knn(clf_data, clf_query, k=3, distance_fn=euclidean_distance, choice_fn=mode)\n",
    "    print(\"Classification prediction: \", clf_k_nearest_neighbors)\n",
    "    \n",
    "if __name__=='__main__':\n",
    "    main()"
   ]
  },
  {
   "cell_type": "code",
   "execution_count": null,
   "metadata": {},
   "outputs": [],
   "source": [
    "import cfxmagic"
   ]
  },
  {
   "cell_type": "code",
   "execution_count": null,
   "metadata": {},
   "outputs": [],
   "source": [
    "%%qsub\n",
    "cd $PBS_O_WORKDIR\n",
    "python source/knn_from_scratch.py"
   ]
  },
  {
   "cell_type": "code",
   "execution_count": null,
   "metadata": {},
   "outputs": [],
   "source": [
    "%ls STDIN.*\n",
    "%cat STDIN.o876009"
   ]
  },
  {
   "cell_type": "markdown",
   "metadata": {},
   "source": [
    "### Use algorithm"
   ]
  },
  {
   "cell_type": "code",
   "execution_count": null,
   "metadata": {},
   "outputs": [],
   "source": [
    "%%writefile source/knn_movies_recommender.py\n",
    "\n",
    "from knn_from_scratch import knn, euclidean_distance\n",
    "\n",
    "def recommend_movies(movie_query, k_recommendations):\n",
    "    raw_movies_data = []\n",
    "    with open('movies_recommendation_data.csv', 'r') as md:\n",
    "        next(md)\n",
    "        \n",
    "        for line in md.readlines():\n",
    "            data_row = line.strip().split(',')\n",
    "            raw_movies_data.append(data_row)\n",
    "    \n",
    "    movies_recommendation_data = []\n",
    "    for row in raw_movies_data:\n",
    "        data_row = list(map(float, row[2:]))\n",
    "        movies_recommendation_data.append(data_row)\n",
    "    \n",
    "    recommendation_indices, _ = knn(movies_recommendation_data, movie_query, k=k_recommendations, distance_fn=euclidean_distance, choice_fn=lambda x:None)\n",
    "    \n",
    "    movie_recommendations = []\n",
    "    for _, index in recommendation_indices:\n",
    "        movie_recommendations.append(raw_movies_data[index])\n",
    "    return movie_recommendations\n",
    "\n",
    "if __name__=='__main__':\n",
    "    # the_post = [7.2, 1, 1, 0, 0, 0, 0, 1, 0] \n",
    "    the_post = [8, 1, 1, 1, 0, 0, 0, 1, 0]\n",
    "    recommended_movies = recommend_movies(movie_query=the_post, k_recommendations=5)\n",
    "    \n",
    "    for recommendation in recommended_movies:\n",
    "        print(\"Recommended movies: \", recommendation[1])"
   ]
  },
  {
   "cell_type": "markdown",
   "metadata": {},
   "source": [
    "### Run movie recommendation"
   ]
  },
  {
   "cell_type": "code",
   "execution_count": null,
   "metadata": {},
   "outputs": [],
   "source": [
    "import cfxmagic"
   ]
  },
  {
   "cell_type": "code",
   "execution_count": null,
   "metadata": {},
   "outputs": [],
   "source": [
    "%%qsub\n",
    "cd $PBS_O_WORKDIR\n",
    "python source/knn_movies_recommender.py"
   ]
  },
  {
   "cell_type": "markdown",
   "metadata": {},
   "source": [
    "Show output"
   ]
  },
  {
   "cell_type": "code",
   "execution_count": null,
   "metadata": {},
   "outputs": [],
   "source": [
    "%ls STDIN.*\n",
    "%cat STDIN.o876010"
   ]
  },
  {
   "cell_type": "markdown",
   "metadata": {},
   "source": [
    "Then, convert to dpcpp."
   ]
  }
 ],
 "metadata": {
  "kernelspec": {
   "display_name": "Python 3.7 (Intel® oneAPI)",
   "language": "python",
   "name": "c009-intel_distribution_of_python_3_oneapi-beta05-python"
  },
  "language_info": {
   "codemirror_mode": {
    "name": "ipython",
    "version": 3
   },
   "file_extension": ".py",
   "mimetype": "text/x-python",
   "name": "python",
   "nbconvert_exporter": "python",
   "pygments_lexer": "ipython3",
   "version": "3.7.9"
  }
 },
 "nbformat": 4,
 "nbformat_minor": 4
}
